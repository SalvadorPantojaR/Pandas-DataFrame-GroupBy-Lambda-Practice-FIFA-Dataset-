{
 "cells": [
  {
   "cell_type": "code",
   "execution_count": 28,
   "metadata": {},
   "outputs": [],
   "source": [
    "import pandas as pd\n",
    "from datetime import datetime"
   ]
  },
  {
   "cell_type": "code",
   "execution_count": 3,
   "metadata": {},
   "outputs": [],
   "source": [
    "df = pd.read_csv(r\"C:\\Users\\chavs\\Downloads\\Bases de datos del curso\\fifa_eda.csv\")"
   ]
  },
  {
   "cell_type": "code",
   "execution_count": 4,
   "metadata": {},
   "outputs": [
    {
     "name": "stdout",
     "output_type": "stream",
     "text": [
      "Muestra de 20 líneas:\n",
      "           ID          Name  Age    Nationality  Overall  Potential  \\\n",
      "17304  229398    H. McKirdy   21       Scotland       54         67   \n",
      "639    200155    H. Vanaken   25        Belgium       79         81   \n",
      "12684  208543   C. Howieson   23    New Zealand       63         68   \n",
      "14991  239496      Y. Fekir   21         France       60         72   \n",
      "12321  244545      Valdu Té   20  Guinea Bissau       63         71   \n",
      "3960   215294   C. Menéndez   30      Argentina       72         72   \n",
      "11690  239018         Junio   21         Brazil       64         74   \n",
      "6145   236170  Ever Sineiro   30         Brazil       69         69   \n",
      "9265   229742     H. Alpsoy   21         Turkey       66         77   \n",
      "4324   202356      Z. Erdal   30         Turkey       71         71   \n",
      "12806  229819     M. Rasner   23        Austria       63         67   \n",
      "11971  220650   M. Lorenzen   23         Uganda       64         70   \n",
      "10333  219746     D. Torres   25          Chile       65         68   \n",
      "716    157301      R. Babel   31    Netherlands       79         79   \n",
      "7348   233911         Matos   23          Spain       68         75   \n",
      "15625  239269     L. Ndenbe   18        Belgium       59         74   \n",
      "14407  192674       Leandro   29          Spain       61         63   \n",
      "10494  229259   Dani Suárez   28          Spain       65         65   \n",
      "484    195861  Y. Rakitskyi   28        Ukraine       80         80   \n",
      "14680  243468    A. Balanta   18       Colombia       60         80   \n",
      "\n",
      "                              Club    Value  Wage Preferred Foot  \\\n",
      "17304                  Aston Villa    130.0   2.0          Right   \n",
      "639                 Club Brugge KV  15500.0  27.0          Right   \n",
      "12684                          NaN      NaN   0.0           Left   \n",
      "14991           Olympique Lyonnais    375.0   6.0          Right   \n",
      "12321           Vitória de Setúbal    550.0   1.0          Right   \n",
      "3960   Tiburones Rojos de Veracruz   3000.0   8.0          Right   \n",
      "11690                   Rio Ave FC    625.0   4.0          Right   \n",
      "6145                      Cruzeiro   1000.0  13.0          Right   \n",
      "9265                   Antalyaspor    975.0   4.0          Right   \n",
      "4324                     Sivasspor   1700.0   9.0           Left   \n",
      "12806               SKN St. Pölten    475.0   3.0          Right   \n",
      "11971                 ADO Den Haag    625.0   2.0          Right   \n",
      "10333                 CD Palestino    550.0   1.0           Left   \n",
      "716                    Beşiktaş JK  11000.0  55.0          Right   \n",
      "7348                      Cádiz CF   1100.0   4.0           Left   \n",
      "15625                  KV Oostende    290.0   1.0           Left   \n",
      "14407                 RCD Mallorca    200.0   1.0           Left   \n",
      "10494                Górnik Zabrze    450.0   2.0          Right   \n",
      "484               Shakhtar Donetsk  12000.0   1.0           Left   \n",
      "14680               Deportivo Cali    375.0   1.0          Right   \n",
      "\n",
      "       International Reputation  Skill Moves Position  Joined  \\\n",
      "17304                       1.0          3.0       ST    2015   \n",
      "639                         1.0          4.0      CAM    2015   \n",
      "12684                       1.0          3.0       CM    2016   \n",
      "14991                       1.0          3.0       LW    2017   \n",
      "12321                       1.0          2.0       ST    2016   \n",
      "3960                        1.0          3.0       ST    2017   \n",
      "11690                       1.0          2.0       RB    2016   \n",
      "6145                        1.0          3.0      CAM    2018   \n",
      "9265                        1.0          2.0      CDM    2017   \n",
      "4324                        1.0          2.0       LB    2010   \n",
      "12806                       1.0          3.0       LM    2017   \n",
      "11971                       1.0          3.0       LW    2017   \n",
      "10333                       1.0          3.0       LB    2012   \n",
      "716                         3.0          4.0       LM    2017   \n",
      "7348                        1.0          2.0       LB    2018   \n",
      "15625                       1.0          2.0       LB    2017   \n",
      "14407                       1.0          1.0       GK    2018   \n",
      "10494                       1.0          2.0      RCB    2017   \n",
      "484                         2.0          3.0      LCB    2009   \n",
      "14680                       1.0          2.0      CDM    2017   \n",
      "\n",
      "      Contract Valid Until    Height  Weight  Release Clause  \n",
      "17304           2019-01-01  5.583333   148.0      328.000000  \n",
      "639             2020-01-01  6.416667   176.0    24400.000000  \n",
      "12684                  NaN  5.916667   172.0     4585.060806  \n",
      "14991           2020-01-01  5.583333   143.0      788.000000  \n",
      "12321           2021-01-01  6.166667   176.0     1300.000000  \n",
      "3960            2023-01-01  6.083333   176.0     5000.000000  \n",
      "11690           2019-06-30  6.000000   165.0     4585.060806  \n",
      "6145            2021-01-01  5.500000   132.0     1900.000000  \n",
      "9265            2021-01-01  6.083333   172.0     2100.000000  \n",
      "4324            2020-01-01  6.000000   161.0     3400.000000  \n",
      "12806           2023-01-01  5.833333   159.0      724.000000  \n",
      "11971           2019-01-01  6.166667   190.0     1100.000000  \n",
      "10333           2018-01-01  5.750000   154.0      784.000000  \n",
      "716             2019-01-01  6.083333   187.0    20900.000000  \n",
      "7348            2021-01-01  5.500000   150.0     1900.000000  \n",
      "15625           2020-01-01  5.583333   163.0      616.000000  \n",
      "14407           2020-01-01  6.083333   181.0      325.000000  \n",
      "10494           2019-01-01  6.166667   190.0      608.000000  \n",
      "484             2022-01-01  6.083333   183.0    25200.000000  \n",
      "14680           2021-01-01  5.833333   159.0      900.000000  \n"
     ]
    }
   ],
   "source": [
    "print(\"Muestra de 20 líneas:\")\n",
    "print(df.sample(20))"
   ]
  },
  {
   "cell_type": "code",
   "execution_count": 5,
   "metadata": {},
   "outputs": [],
   "source": [
    "cols_to_convert = ['Value', 'Wage', 'Release Clause']  \n",
    "\n",
    "def convert_to_numeric(value):\n",
    "    if isinstance(value, str):\n",
    "        value = value.replace('€', '').replace('K', 'e3').replace('M', 'e6')\n",
    "        try:\n",
    "            return float(eval(value))\n",
    "        except:\n",
    "            return None\n",
    "    return value\n",
    "\n",
    "for col in cols_to_convert:\n",
    "    df[col] = df[col].map(convert_to_numeric)"
   ]
  },
  {
   "cell_type": "code",
   "execution_count": 6,
   "metadata": {},
   "outputs": [
    {
     "name": "stdout",
     "output_type": "stream",
     "text": [
      "\n",
      "Estadísticas generales:\n",
      "        Overall  Potential\n",
      "mean  66.238699  71.307299\n",
      "min   46.000000  48.000000\n",
      "max   94.000000  95.000000\n",
      "\n",
      "Estadísticas por país:\n",
      "               Overall          Potential        \n",
      "                  mean min max       mean min max\n",
      "Nationality                                      \n",
      "Afghanistan  61.000000  59  63  67.750000  64  71\n",
      "Albania      65.925000  52  81  71.700000  62  86\n",
      "Algeria      70.633333  58  85  72.983333  62  85\n",
      "Andorra      62.000000  62  62  64.000000  64  64\n",
      "Angola       67.600000  60  78  71.533333  64  82\n",
      "...                ...  ..  ..        ...  ..  ..\n",
      "Uzbekistan   67.500000  60  75  67.500000  60  75\n",
      "Venezuela    67.268657  53  81  73.149254  55  84\n",
      "Wales        64.139535  47  88  69.968992  56  88\n",
      "Zambia       65.222222  56  73  73.777778  66  83\n",
      "Zimbabwe     69.769231  64  78  72.461538  66  83\n",
      "\n",
      "[164 rows x 6 columns]\n"
     ]
    }
   ],
   "source": [
    "print(\"\\nEstadísticas generales:\")\n",
    "print(df[['Overall', 'Potential']].agg(['mean', 'min', 'max']))\n",
    "\n",
    "print(\"\\nEstadísticas por país:\")\n",
    "print(df.groupby('Nationality')[['Overall', 'Potential']].agg(['mean', 'min', 'max']))"
   ]
  },
  {
   "cell_type": "code",
   "execution_count": 7,
   "metadata": {},
   "outputs": [
    {
     "name": "stdout",
     "output_type": "stream",
     "text": [
      "\n",
      "Últimas filas con jugadores ficticios:\n",
      "           ID                  Name  Age Nationality  Overall  Potential  \\\n",
      "18204  241638             B. Worman   16     England       47         67   \n",
      "18205  246268        D. Walker-Rice   17     England       47         66   \n",
      "18206  246269             G. Nugent   16     England       46         66   \n",
      "18207  999991    Salvador Pantoja R   22      Mexico       85         90   \n",
      "18208  999992  Arthur Gonzalez Maxi   24       Chile       78         83   \n",
      "\n",
      "                   Club  Value  Wage Preferred Foot  International Reputation  \\\n",
      "18204  Cambridge United   60.0   1.0          Right                       1.0   \n",
      "18205   Tranmere Rovers   60.0   1.0          Right                       1.0   \n",
      "18206   Tranmere Rovers   60.0   1.0          Right                       1.0   \n",
      "18207       Tigres UANL   55.0   1.0            NaN                       NaN   \n",
      "18208         Colo-Colo   48.0   1.0            NaN                       NaN   \n",
      "\n",
      "       Skill Moves Position  Joined Contract Valid Until    Height  Weight  \\\n",
      "18204          2.0       ST    2017           2021-01-01  5.666667   148.0   \n",
      "18205          2.0       RW    2018           2019-01-01  5.833333   154.0   \n",
      "18206          2.0       CM    2018           2019-01-01  5.833333   176.0   \n",
      "18207          NaN       ST    2018                  NaN       NaN     NaN   \n",
      "18208          NaN       CM    2019                  NaN       NaN     NaN   \n",
      "\n",
      "       Release Clause  \n",
      "18204           165.0  \n",
      "18205           143.0  \n",
      "18206           165.0  \n",
      "18207            80.0  \n",
      "18208            50.0  \n"
     ]
    }
   ],
   "source": [
    "new_players = pd.DataFrame([\n",
    "    {\"ID\": 999991, \"Name\": \"Salvador Pantoja R\", \"Age\": 22, \"Nationality\": \"Mexico\", \"Overall\": 85, \"Potential\": 90, \"Club\": \"Tigres UANL\", \"Value\": 55, \"Wage\": 1, \"Release Clause\": 80, \"Joined\": 2018, \"Position\": \"ST\"},\n",
    "    {\"ID\": 999992, \"Name\": \"Arthur Gonzalez Maxi\", \"Age\": 24, \"Nationality\": \"Chile\", \"Overall\": 78, \"Potential\": 83, \"Club\": \"Colo-Colo\", \"Value\": 48, \"Wage\": 1, \"Release Clause\": 50, \"Joined\": 2019, \"Position\": \"CM\"}\n",
    "])\n",
    "df = pd.concat([df, new_players], ignore_index=True)\n",
    "\n",
    "print(\"\\nÚltimas filas con jugadores ficticios:\")\n",
    "print(df.tail())"
   ]
  },
  {
   "cell_type": "code",
   "execution_count": 8,
   "metadata": {},
   "outputs": [
    {
     "name": "stdout",
     "output_type": "stream",
     "text": [
      "\n",
      "Nuevas estadísticas generales:\n",
      "        Overall  Potential\n",
      "mean  66.240376  71.308968\n",
      "min   46.000000  48.000000\n",
      "max   94.000000  95.000000\n"
     ]
    }
   ],
   "source": [
    "print(\"\\nNuevas estadísticas generales:\")\n",
    "print(df[['Overall', 'Potential']].agg(['mean', 'min', 'max']))"
   ]
  },
  {
   "cell_type": "code",
   "execution_count": 29,
   "metadata": {},
   "outputs": [
    {
     "name": "stdout",
     "output_type": "stream",
     "text": [
      "\n",
      "Primeras filas con zona horaria y nombre del país:\n",
      "                Name  Age Nationality                     ZonaHoraria  \\\n",
      "0           L. Messi   31   Argentina  America/Argentina/Buenos_Aires   \n",
      "1  Cristiano Ronaldo   33    Portugal                   Europe/Lisbon   \n",
      "2          Neymar Jr   26      Brazil                 America/Noronha   \n",
      "3             De Gea   27       Spain                   Europe/Madrid   \n",
      "4       K. De Bruyne   27     Belgium                 Europe/Brussels   \n",
      "\n",
      "  NombrePaís  \n",
      "0  Argentina  \n",
      "1   Portugal  \n",
      "2     Brazil  \n",
      "3      Spain  \n",
      "4    Belgium  \n"
     ]
    }
   ],
   "source": [
    "import pytz\n",
    "\n",
    "claves_paises = {\n",
    "    \"Mexico\": \"MX\", \"Chile\": \"CL\", \"Argentina\": \"AR\", \"Portugal\": \"PT\", \"Brazil\": \"BR\",\n",
    "    \"Spain\": \"ES\", \"Belgium\": \"BE\", \"France\": \"FR\", \"Germany\": \"DE\", \"Italy\": \"IT\",\n",
    "    \"England\": \"GB\", \"Netherlands\": \"NL\", \"Colombia\": \"CO\", \"Uruguay\": \"UY\", \"Switzerland\": \"CH\",\n",
    "    \"United States\": \"US\", \"Canada\": \"CA\", \"Japan\": \"JP\", \"South Korea\": \"KR\"\n",
    "}\n",
    "\n",
    "df['País'] = df['Nationality'].map(claves_paises).fillna(\"Unknown\")\n",
    "\n",
    "df['ZonaHoraria'] = df['País'].apply(lambda x: pytz.country_timezones.get(x, [\"Unknown\"])[0] if x != \"Unknown\" else \"Unknown\")\n",
    "df['NombrePaís'] = df['País'].apply(lambda x: pytz.country_names.get(x, \"Unknown\") if x != \"Unknown\" else \"Unknown\")\n",
    "\n",
    "print(\"\\nPrimeras filas con zona horaria y nombre del país:\")\n",
    "print(df[['Name','Age','Nationality', 'ZonaHoraria', 'NombrePaís']].head())"
   ]
  },
  {
   "cell_type": "code",
   "execution_count": 30,
   "metadata": {},
   "outputs": [
    {
     "name": "stdout",
     "output_type": "stream",
     "text": [
      "\n",
      "Primeras filas con clasificación Balón de Oro:\n",
      "                Name  Potential  BallonDor\n",
      "0           L. Messi         94  Candidato\n",
      "1  Cristiano Ronaldo         94  Candidato\n",
      "2          Neymar Jr         93  Candidato\n",
      "3             De Gea         93  Candidato\n",
      "4       K. De Bruyne         92  Candidato\n"
     ]
    }
   ],
   "source": [
    "df['BallonDor'] = df['Potential'].apply(lambda x: \"Candidato\" if x > 85 else \"Next Year\")\n",
    "\n",
    "print(\"\\nPrimeras filas con clasificación Balón de Oro:\")\n",
    "print(df[['Name', 'Potential', 'BallonDor']].head())\n"
   ]
  }
 ],
 "metadata": {
  "kernelspec": {
   "display_name": "Python 3",
   "language": "python",
   "name": "python3"
  },
  "language_info": {
   "codemirror_mode": {
    "name": "ipython",
    "version": 3
   },
   "file_extension": ".py",
   "mimetype": "text/x-python",
   "name": "python",
   "nbconvert_exporter": "python",
   "pygments_lexer": "ipython3",
   "version": "3.13.1"
  }
 },
 "nbformat": 4,
 "nbformat_minor": 2
}
